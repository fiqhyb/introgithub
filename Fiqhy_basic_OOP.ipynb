{
  "nbformat": 4,
  "nbformat_minor": 0,
  "metadata": {
    "colab": {
      "name": "Fiqhy-basic_OOP.ipynb",
      "provenance": [],
      "collapsed_sections": []
    },
    "kernelspec": {
      "name": "python3",
      "display_name": "Python 3"
    },
    "language_info": {
      "name": "python"
    }
  },
  "cells": [
    {
      "cell_type": "markdown",
      "metadata": {
        "id": "fSS1y1ra3FEM"
      },
      "source": [
        "### 1. Buat class Hewan yang memiliki class attributes nama_latin dan instance attributes nama dan umur"
      ]
    },
    {
      "cell_type": "code",
      "metadata": {
        "id": "QucZdMuoo2ra"
      },
      "source": [
        "class Hewan:\n",
        "  \n",
        "  nama_latin = \"hewan\"\n",
        "\n",
        "  def __init__(self, nama, umur):\n",
        "    self.nama = nama\n",
        "    self.umur = umur"
      ],
      "execution_count": 1,
      "outputs": []
    },
    {
      "cell_type": "markdown",
      "metadata": {
        "id": "O1E_46f23JLE"
      },
      "source": [
        "### 2. Di class Hewan, memiliki instance method bangun, & class method change_nama_latin"
      ]
    },
    {
      "cell_type": "code",
      "metadata": {
        "id": "tuYeiwdwrjpU"
      },
      "source": [
        "class Hewan:\n",
        "  \n",
        "  nama_latin = \"hewan\"\n",
        "\n",
        "  def __init__(self, nama, umur):\n",
        "    self.nama = nama\n",
        "    self.umur = umur\n",
        "\n",
        "  def bangun(self):\n",
        "    print('hewan bangun')\n",
        "\n",
        "  @classmethod\n",
        "  def change_nama_latin(cls, nama_latin):\n",
        "    cls.nama_latin = nama_latin  "
      ],
      "execution_count": null,
      "outputs": []
    },
    {
      "cell_type": "markdown",
      "metadata": {
        "id": "KuZfb4Zu3Tev"
      },
      "source": [
        "### 3. Buat child class Kucing yang memiliki value class attributes yang berbeda dengan parent class, menggunakan class method change_nama_latin"
      ]
    },
    {
      "cell_type": "code",
      "metadata": {
        "id": "aSgTgh_rtT5Y"
      },
      "source": [
        "class Kucing(Hewan):\n",
        "  \n",
        "  nama_latin = \"kucing\"\n",
        "\n",
        "  def __init__(self, nama, umur):\n",
        "    Hewan.__init__(self, nama, umur)\n",
        "    Hewan.change_nama_latin(Kucing.nama_latin)"
      ],
      "execution_count": null,
      "outputs": []
    },
    {
      "cell_type": "markdown",
      "metadata": {
        "id": "l1Fe3Kje3msj"
      },
      "source": [
        "### 4. Di child class, override method bangun"
      ]
    },
    {
      "cell_type": "code",
      "metadata": {
        "id": "3ZCiuU8l0cZV"
      },
      "source": [
        "class Kucing(Hewan):\n",
        "  \n",
        "  nama_latin = \"kucing\"\n",
        "\n",
        "  def __init__(self, nama, umur):\n",
        "    Hewan.__init__(self, nama, umur)\n",
        "    Hewan.change_nama_latin(Kucing.nama_latin)\n",
        "\n",
        "  def bangun(self):\n",
        "    print('kucing bangun')"
      ],
      "execution_count": null,
      "outputs": []
    },
    {
      "cell_type": "markdown",
      "metadata": {
        "id": "-o9Rh1AU3sc9"
      },
      "source": [
        "### 5. Di child class, buat method lari yang memiliki parameter kecepatan. Jika value dari parameter kecepatan lebih dari 10, maka print cepat sekali selain itu print lambat"
      ]
    },
    {
      "cell_type": "code",
      "metadata": {
        "id": "P6o-28qB3rny"
      },
      "source": [
        "class Kucing(Hewan):\n",
        "  \n",
        "  nama_latin = \"kucing\"\n",
        "\n",
        "  def __init__(self, nama, umur):\n",
        "    Hewan.__init__(self, nama, umur)\n",
        "    Hewan.change_nama_latin(Kucing.nama_latin)\n",
        "\n",
        "  def bangun(self):\n",
        "    print('kucing bangun')\n",
        "\n",
        "  def lari(self, kecepatan):\n",
        "    if kecepatan >=11:\n",
        "      print('cepat sekali')\n",
        "    else:\n",
        "      print('lambat')"
      ],
      "execution_count": null,
      "outputs": []
    },
    {
      "cell_type": "markdown",
      "metadata": {
        "id": "EPfAmki6e_AX"
      },
      "source": [
        "### Test output"
      ]
    },
    {
      "cell_type": "code",
      "metadata": {
        "colab": {
          "base_uri": "https://localhost:8080/"
        },
        "id": "wL9sRb4m6cDq",
        "outputId": "83b14257-e7e4-41b3-a30b-25b5de7a377d"
      },
      "source": [
        "hewan1 = Hewan(\"merah\", 3)\n",
        "print(hewan1.nama_latin,hewan1.nama,hewan1.umur)\n",
        "hewan1.bangun()"
      ],
      "execution_count": null,
      "outputs": [
        {
          "output_type": "stream",
          "name": "stdout",
          "text": [
            "hewan merah 3\n",
            "hewan bangun\n"
          ]
        }
      ]
    },
    {
      "cell_type": "code",
      "metadata": {
        "colab": {
          "base_uri": "https://localhost:8080/"
        },
        "id": "K8wp6nJZ4nbq",
        "outputId": "00b38db9-4b29-4f61-b5fe-bbda8516fe9e"
      },
      "source": [
        "kucing1 = Kucing(\"biru\", 4)\n",
        "print(kucing1.nama_latin,kucing1.nama,kucing1.umur)\n",
        "kucing1.bangun()\n",
        "kucing1.lari(12)\n",
        "kucing1.lari(5)"
      ],
      "execution_count": null,
      "outputs": [
        {
          "output_type": "stream",
          "name": "stdout",
          "text": [
            "kucing biru 4\n",
            "kucing bangun\n",
            "cepat sekali\n",
            "lambat\n"
          ]
        }
      ]
    }
  ]
}